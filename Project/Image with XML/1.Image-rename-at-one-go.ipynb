{
 "cells": [
  {
   "cell_type": "code",
   "execution_count": 2,
   "metadata": {},
   "outputs": [
    {
     "ename": "FileExistsError",
     "evalue": "[WinError 183] Cannot create a file when that file already exists: 'E://yolo detection tut//Notes//1_datapreparation//img//data\\\\1002.jpg' -> 'E://yolo detection tut//Notes//1_datapreparation//img//data\\\\119.jpg'",
     "output_type": "error",
     "traceback": [
      "\u001b[1;31m---------------------------------------------------------------------------\u001b[0m",
      "\u001b[1;31mFileExistsError\u001b[0m                           Traceback (most recent call last)",
      "Cell \u001b[1;32mIn[2], line 18\u001b[0m\n\u001b[0;32m     15\u001b[0m \u001b[39m# Example usage\u001b[39;00m\n\u001b[0;32m     16\u001b[0m directory_path \u001b[39m=\u001b[39m \u001b[39m'\u001b[39m\u001b[39mE://yolo detection tut//Notes//1_datapreparation//img//data\u001b[39m\u001b[39m'\u001b[39m  \u001b[39m# Specify the directory path\u001b[39;00m\n\u001b[1;32m---> 18\u001b[0m rename_files(directory_path)\n",
      "Cell \u001b[1;32mIn[2], line 12\u001b[0m, in \u001b[0;36mrename_files\u001b[1;34m(directory_path)\u001b[0m\n\u001b[0;32m     10\u001b[0m new_filename \u001b[39m=\u001b[39m \u001b[39mstr\u001b[39m(i) \u001b[39m+\u001b[39m file_ext\n\u001b[0;32m     11\u001b[0m new_file_path \u001b[39m=\u001b[39m os\u001b[39m.\u001b[39mpath\u001b[39m.\u001b[39mjoin(directory_path, new_filename)\n\u001b[1;32m---> 12\u001b[0m os\u001b[39m.\u001b[39;49mrename(file_path, new_file_path)\n\u001b[0;32m     13\u001b[0m \u001b[39mprint\u001b[39m(\u001b[39mf\u001b[39m\u001b[39m\"\u001b[39m\u001b[39mRenamed \u001b[39m\u001b[39m{\u001b[39;00mfilename\u001b[39m}\u001b[39;00m\u001b[39m to \u001b[39m\u001b[39m{\u001b[39;00mnew_filename\u001b[39m}\u001b[39;00m\u001b[39m\"\u001b[39m)\n",
      "\u001b[1;31mFileExistsError\u001b[0m: [WinError 183] Cannot create a file when that file already exists: 'E://yolo detection tut//Notes//1_datapreparation//img//data\\\\1002.jpg' -> 'E://yolo detection tut//Notes//1_datapreparation//img//data\\\\119.jpg'"
     ]
    }
   ],
   "source": [
    "import os\n",
    "\n",
    "def rename_files(directory_path):\n",
    "    i = 118\n",
    "    for filename in os.listdir(directory_path):\n",
    "        if os.path.isfile(os.path.join(directory_path, filename)):\n",
    "            file_path = os.path.join(directory_path, filename)\n",
    "            file_dir, file_ext = os.path.splitext(file_path)\n",
    "            i = i + 1\n",
    "            new_filename = str(i) + file_ext\n",
    "            new_file_path = os.path.join(directory_path, new_filename)\n",
    "            os.rename(file_path, new_file_path)\n",
    "            print(f\"Renamed {filename} to {new_filename}\")\n",
    "\n",
    "# Example usage\n",
    "directory_path = 'E://yolo detection tut//Notes//1_datapreparation//img//data'  # Specify the directory path\n",
    "\n",
    "rename_files(directory_path)\n"
   ]
  }
 ],
 "metadata": {
  "kernelspec": {
   "display_name": "Python 3",
   "language": "python",
   "name": "python3"
  },
  "language_info": {
   "codemirror_mode": {
    "name": "ipython",
    "version": 3
   },
   "file_extension": ".py",
   "mimetype": "text/x-python",
   "name": "python",
   "nbconvert_exporter": "python",
   "pygments_lexer": "ipython3",
   "version": "3.10.11"
  },
  "orig_nbformat": 4
 },
 "nbformat": 4,
 "nbformat_minor": 2
}
